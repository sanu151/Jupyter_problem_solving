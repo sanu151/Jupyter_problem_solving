{
 "cells": [
  {
   "cell_type": "markdown",
   "id": "fc9aafbd",
   "metadata": {},
   "source": [
    "# QN: 1 > Maximum and Minimum Element in an Array\n",
    "Given an array A of size N of integers. Your task is to find the sum of minimum and maximum element in the array.\n",
    "\n",
    "Example 1:                                                                  \n",
    "\n",
    "Input:                                                      \n",
    "N = 5\n",
    "A[] = {-2, 1, -4, 5, 3}                                                             \n",
    "Output: 1                                                                     \n",
    "Explanation: min = -4, max =  5. Sum = -4 + 5 = 1                                           \n",
    " \n",
    "\n",
    "Example 2:                                                                      \n",
    "\n",
    "Input:                                                                                          \n",
    "N = 4                                                                                           \n",
    "A[]  = {1, 3, 4, 1}                                                              \n",
    "Output: 5                                                                       \n",
    "Explanation: min = 1, max = 4. Sum = 1 + 4 = 5"
   ]
  },
  {
   "cell_type": "code",
   "execution_count": 1,
   "id": "6df6d780",
   "metadata": {},
   "outputs": [
    {
     "name": "stdout",
     "output_type": "stream",
     "text": [
      "38\n"
     ]
    }
   ],
   "source": [
    "arr = {22, 14, 8, 17, 35, 3}\n",
    "\n",
    "print(max(arr) + min(arr))"
   ]
  },
  {
   "cell_type": "markdown",
   "id": "434ebece",
   "metadata": {},
   "source": [
    "# QN: 2 > Reverse the Array\n",
    "Given an array (or string), the task is to reverse the array/string.\n",
    "Examples : \n",
    "\n",
    "\n",
    "Input  : arr[] = {1, 2, 3}                                                 \n",
    "Output : arr[] = {3, 2, 1}\n",
    "\n",
    "Input :  arr[] = {4, 5, 1, 2}                                          \n",
    "Output : arr[] = {2, 1, 5, 4}"
   ]
  },
  {
   "cell_type": "code",
   "execution_count": 2,
   "id": "6b5a54b5",
   "metadata": {},
   "outputs": [
    {
     "name": "stdout",
     "output_type": "stream",
     "text": [
      "Enter array length : 4\n",
      "0= :5\n",
      "1= :8\n",
      "2= :2\n",
      "3= :9\n",
      "[9, 2, 8, 5]\n"
     ]
    }
   ],
   "source": [
    "lst = []\n",
    "for i in range(int(input(\"Enter array length : \"))):\n",
    "    a = int(input((f\"{i}= :\")))\n",
    "    lst.append(a)\n",
    "#lst.reverse()\n",
    "b = []\n",
    "for i in range (len(lst)):\n",
    "    b.append(lst[(len(lst)-1)-i])\n",
    "print(b) "
   ]
  },
  {
   "cell_type": "markdown",
   "id": "c9ef7b16",
   "metadata": {},
   "source": [
    "\n",
    "# QN: 3 > Maximum-Subarray\n",
    "Given an integer array nums, find the \n",
    "subarray\n",
    " with the largest sum, and return its sum.\n",
    "\n",
    " \n",
    "\n",
    "Example 1:\n",
    "\n",
    "Input: nums = [-2,1,-3,4,-1,2,1,-5,4]                                                   \n",
    "Output: 6                                                                            \n",
    "Explanation: The subarray [4,-1,2,1] has the largest sum 6. \n",
    "\n",
    "Example 2:\n",
    "\n",
    "Input: nums = [1]                                                                      \n",
    "Output: 1                                                                                            \n",
    "Explanation: The subarray [1] has the largest sum 1.      \n",
    "\n",
    "Example 3:                                                                          \n",
    "\n",
    "Input: nums = [5,4,-1,7,8]                                                            \n",
    "Output: 23                                                                                \n",
    "Explanation: The subarray [5,4,-1,7,8] has the largest sum 23."
   ]
  },
  {
   "cell_type": "code",
   "execution_count": 3,
   "id": "5a62e065",
   "metadata": {},
   "outputs": [
    {
     "name": "stdout",
     "output_type": "stream",
     "text": [
      "70\n"
     ]
    }
   ],
   "source": [
    "nums = [3, -8, 2, 34, -23, 57]\n",
    "result = nums[0]\n",
    "sum = 0\n",
    "\n",
    "for i in nums:\n",
    "    sum = max(i, sum+i)\n",
    "    result = max(result, sum)\n",
    "        \n",
    "print(result)\n"
   ]
  },
  {
   "cell_type": "markdown",
   "id": "97bcc3ef",
   "metadata": {},
   "source": [
    "# QN: 4 >    Contains Duplicate\n",
    "Given an integer array nums, return true if any value appears at least twice in the array, and return false if every element is distinct.\n",
    "\n",
    " \n",
    "\n",
    "Example 1:                               \n",
    "\n",
    "Input: nums = [1,2,3,1]                                                                 \n",
    "Output: true\n",
    "\n",
    "Example 2:                                                                \n",
    "\n",
    "Input: nums = [1,2,3,4]                                                                                         \n",
    "Output: false  \n",
    "\n",
    "Example 3:                                                                        \n",
    "\n",
    "Input: nums = [1,1,1,3,3,4,3,2,4,2]                                                     \n",
    "Output: true"
   ]
  },
  {
   "cell_type": "code",
   "execution_count": 4,
   "id": "97e3e752",
   "metadata": {},
   "outputs": [
    {
     "name": "stdout",
     "output_type": "stream",
     "text": [
      "True\n"
     ]
    }
   ],
   "source": [
    "nums = [1,1,1,3,3,4,3,2,4,2]\n",
    "\n",
    "if len(nums) != len(set(nums)):\n",
    "    print(\"True\")\n",
    "else:\n",
    "    print(\"False\")"
   ]
  },
  {
   "cell_type": "markdown",
   "id": "839f026e",
   "metadata": {},
   "source": [
    "# QN: 5 > Chocolate Distribution Problem\n",
    "Given an array A[ ] of positive integers of size N, where each value represents the number of chocolates in a packet. Each packet can have a variable number of chocolates. There are M students, the task is to distribute chocolate packets among M students such that :\n",
    "\n",
    "* Each student gets one packet.\n",
    "* The difference between the number of chocolates in the packet with maximum chocolates and the packet with minimum chocolates given to the students is minimum.\n",
    "\n",
    "Example 1:                                              \n",
    "\n",
    "Input:                                                                                          \n",
    "N = 8, M = 5                                                                               \n",
    "A = {3, 4, 1, 9, 56, 7, 9, 12}                                                                  \n",
    "Output: 6                                                                                    \n",
    "Explanation: The minimum difference between \n",
    "maximum chocolates and minimum chocolates \n",
    "is 9 - 3 = 6                                                                                             \n",
    "by choosing following M packets :                                                                           \n",
    "{3, 4, 9, 7, 9}.\n",
    "\n",
    "Example 2:\n",
    "\n",
    "Input:                                                                                          \n",
    "N = 7, M = 3\n",
    "A = {7, 3, 2, 4, 9, 12, 56}                                                                                \n",
    "Output: 2                                                                                              \n",
    "Explanation: The minimum difference between\n",
    "maximum chocolates and minimum chocolates\n",
    "is 4 - 2 = 2                                                                                                 \n",
    "by choosing following M packets :                                                                        \n",
    "{3, 2, 4}."
   ]
  },
  {
   "cell_type": "code",
   "execution_count": 5,
   "id": "a5fe8152",
   "metadata": {},
   "outputs": [
    {
     "name": "stdout",
     "output_type": "stream",
     "text": [
      "6\n"
     ]
    }
   ],
   "source": [
    "N = 8\n",
    "M = 5\n",
    "A = [3, 4, 1, 9, 56, 7, 9, 12]\n",
    "A.sort()\n",
    "min = A[N-1]\n",
    "diff = 0\n",
    "for i in range(N-M+1):\n",
    "    diff = A[i+M-1] - A[i]\n",
    "    if diff< min:\n",
    "        min = diff\n",
    "print(min)"
   ]
  },
  {
   "cell_type": "markdown",
   "id": "f48dc891",
   "metadata": {},
   "source": [
    "# QN: 6 > Find duplicates in an array\n",
    "Given an array a[] of size N which contains elements from 0 to N-1, you need to find all the elements occurring more than once in the given array.\n",
    "\n",
    "Note: The extra space is only for the array to be returned.\n",
    "Try and perform all operations within the provided array. \n",
    "\n",
    "Example 1:\n",
    "\n",
    "Input:                                                                                 \n",
    "N = 4                                                                              \n",
    "a[] = {0,3,1,2}                                                                                  \n",
    "Output: -1                                                                                      \n",
    "Explanation: N=4 and all elements from 0\n",
    "to (N-1 = 3) are present in the given\n",
    "array. Therefore output is -1.\n",
    "\n",
    "Example 2:                                                                                        \n",
    "\n",
    "Input:                                                                               \n",
    "N = 5                                                                                     \n",
    "a[] = {2,3,1,2,3}                                                                               \n",
    "Output: 2 3                                                                                        \n",
    "Explanation: 2 and 3 occur more than once\n",
    "in the given array."
   ]
  },
  {
   "cell_type": "code",
   "execution_count": 6,
   "id": "fc8b62ff",
   "metadata": {},
   "outputs": [
    {
     "name": "stdout",
     "output_type": "stream",
     "text": [
      "[2, 3]\n"
     ]
    }
   ],
   "source": [
    "n = 5\n",
    "arr = [2, 3, 1, 2, 3]\n",
    "lst = []\n",
    "arr.sort()\n",
    "for i in range(n-1):\n",
    "    if arr[i] == arr[i+1]:\n",
    "    \tlst.append(arr[i])\n",
    "if lst == []:\n",
    "    lst = [-1]\n",
    "\n",
    "print(sorted(list(set(lst))))"
   ]
  },
  {
   "cell_type": "markdown",
   "id": "702f7aaf",
   "metadata": {},
   "source": [
    "# QN: 7 > Leaders in an array\n",
    "Given an array A of positive integers. Your task is to find the leaders in the array. An element of array is leader if it is greater than or equal to all the elements to its right side. The rightmost element is always a leader. \n",
    "\n",
    " \n",
    "Example 1:\n",
    "\n",
    "Input:                                                                                         \n",
    "n = 6                                                                                     \n",
    "A[] = {16,17,4,3,5,2}                                                                         \n",
    "Output: 17 5 2                                                                          \n",
    "Explanation: The first leader is 17 \n",
    "as it is greater than all the elements\n",
    "to its right.  Similarly, the next \n",
    "leader is 5. The right most element \n",
    "is always a leader so it is also \n",
    "included.\n",
    " \n",
    "\n",
    "Example 2:\n",
    "\n",
    "Input:                                                                                                                     \n",
    "n = 5                                                                                          \n",
    "A[] = {1,2,3,4,0}                                                                   \n",
    "Output: 4 0"
   ]
  },
  {
   "cell_type": "code",
   "execution_count": 7,
   "id": "0a72cf99",
   "metadata": {},
   "outputs": [
    {
     "name": "stdout",
     "output_type": "stream",
     "text": [
      "[17, 5, 2]\n"
     ]
    }
   ],
   "source": [
    "N = 6\n",
    "A = [16,17,4,3,5,2]\n",
    "\n",
    "leader = []\n",
    "x = A[N-1]\n",
    "for i in range(N-1, -1, -1):\n",
    "    if A[i] >= x:\n",
    "            x = A[i]\n",
    "            leader.append(x)\n",
    "               \n",
    "leader.reverse()\n",
    "print(leader)"
   ]
  },
  {
   "cell_type": "markdown",
   "id": "6013da48",
   "metadata": {},
   "source": [
    "# QN:8 > Triangle Quest\n",
    "You are given a positive integer                                                                                 \n",
    "   1                                                                                                            \n",
    "  22                                                                                                             \n",
    " 333                                                                                                            \n",
    "4444                                                                                                          \n",
    "..... .                                                                                                         \n",
    "Print a numerical triangle of height like the one below: Can you do it using only arithmetic operations, a single for loop and print statement? \n",
    "\n",
    "Use no more than two lines. The first line (the for statement) is already written for you. You have to complete the print statement. \n",
    "\n",
    "Note: Using anything related to strings will give a score of 0\n",
    "\n",
    "Input Format A single line containing integer, Constraints Output Format Print .                               \n",
    "lines as explained above.\n",
    "\n",
    "Sample Input                                                                                     \n",
    "5\n",
    "\n",
    "Sample Output                                                                                                    \n",
    "   1                                                                                                       \n",
    "  22                                                                                                                   \n",
    " 333                                                                                                          \n",
    "4444                \n"
   ]
  },
  {
   "cell_type": "code",
   "execution_count": 8,
   "id": "a2f5ff63",
   "metadata": {},
   "outputs": [
    {
     "name": "stdout",
     "output_type": "stream",
     "text": [
      "5\n",
      "1\n",
      "22\n",
      "333\n",
      "4444\n"
     ]
    }
   ],
   "source": [
    "for i in range(1,int(input())):\n",
    "    print(i*((10**i)//9))"
   ]
  },
  {
   "cell_type": "markdown",
   "id": "cf1a711d",
   "metadata": {},
   "source": [
    "# QN: 9 > Parenthesis Checker\n",
    "Given an expression string x. Examine whether the pairs and the orders of {,},(,),[,] are correct in exp.\n",
    "For example, the function should return 'true' for exp = [()]{}{[()()]()} and 'false' for exp = [(]).\n",
    "\n",
    "Note: The drive code prints \"balanced\" if function return true, otherwise it prints \"not balanced\".\n",
    "\n",
    "Example 1:\n",
    "\n",
    "Input:                                                                                              \n",
    "{([])}                                                                                                  \n",
    "Output:                                                                                                    \n",
    "true                                                                                                    \n",
    "Explanation:                                                                                                   \n",
    "{ ( [ ] ) }. Same colored brackets can form \n",
    "balanced pairs, with 0 number of \n",
    "unbalanced bracket.\n",
    "\n",
    "Example 2:\n",
    "\n",
    "Input:                                                                                                     \n",
    "  ()                                                                                                        \n",
    "Output:                                                                                                       \n",
    "true                                                                                                              \n",
    "Explanation:                                                                                              \n",
    "(). Same bracket can form balanced pairs, \n",
    "and here only 1 type of bracket is \n",
    "present and in balanced way.\n",
    "\n",
    "Example 3:\n",
    "\n",
    "Input:                                                                                                       \n",
    "([]                                                                                                            \n",
    "Output:                                                                                                        \n",
    "false                                                                                                              \n",
    "Explanation:                                                                                                  \n",
    "([]. Here square bracket is balanced but \n",
    "the small bracket is not balanced and \n",
    "Hence , the output will be unbalanced."
   ]
  },
  {
   "cell_type": "code",
   "execution_count": 9,
   "id": "f65fb931",
   "metadata": {},
   "outputs": [
    {
     "name": "stdout",
     "output_type": "stream",
     "text": [
      "balanced\n"
     ]
    }
   ],
   "source": [
    "def ispar(x):\n",
    "    # code here\n",
    "    stack = []\n",
    "    for char in x:\n",
    "        if char in ['[', '{', '(']:\n",
    "            stack.append(char)\n",
    "        elif char in [']', '}', ')']:\n",
    "            if not stack:\n",
    "                return False\n",
    "                \n",
    "            top = stack.pop()\n",
    "            if (char == ']' and top != '[') or (char == '}' and top != '{') or (char == ')' and top != '('):\n",
    "                return False\n",
    "    return not stack\n",
    "\n",
    "\n",
    "exp = '[()]{}{[()()]()}'\n",
    "if ispar(exp):\n",
    "    print('balanced')\n",
    "else:\n",
    "    print('not balanced')"
   ]
  },
  {
   "cell_type": "code",
   "execution_count": null,
   "id": "22d67e2a",
   "metadata": {},
   "outputs": [],
   "source": []
  }
 ],
 "metadata": {
  "kernelspec": {
   "display_name": "Python 3 (ipykernel)",
   "language": "python",
   "name": "python3"
  },
  "language_info": {
   "codemirror_mode": {
    "name": "ipython",
    "version": 3
   },
   "file_extension": ".py",
   "mimetype": "text/x-python",
   "name": "python",
   "nbconvert_exporter": "python",
   "pygments_lexer": "ipython3",
   "version": "3.9.12"
  }
 },
 "nbformat": 4,
 "nbformat_minor": 5
}
